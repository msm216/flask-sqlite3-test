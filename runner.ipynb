{
 "cells": [
  {
   "cell_type": "markdown",
   "metadata": {},
   "source": [
    "```arduino\n",
    "flask-sqlite3-test/\n",
    "├── instance/\n",
    "│   └── test.db\n",
    "├── templates/\n",
    "│   ├── index.html\n",
    "│   ├── group_modal.html\n",
    "│   └── user_modal.html\n",
    "├── static/\n",
    "│   └── js/\n",
    "│       ├── group_modal.js\n",
    "│       ├── user_modal.js\n",
    "│       └── index.js\n",
    "├── db_init.py\n",
    "└── app.py\n",
    "```"
   ]
  },
  {
   "cell_type": "code",
   "execution_count": 5,
   "metadata": {},
   "outputs": [
    {
     "data": {
      "text/plain": [
       "datetime.datetime(2024, 5, 18, 0, 0)"
      ]
     },
     "execution_count": 5,
     "metadata": {},
     "output_type": "execute_result"
    }
   ],
   "source": [
    "from datetime import datetime, timezone\n",
    "\n",
    "# 确保日期格式为 <class 'datetime.datetime'>\n",
    "def date_for_sqlite(meta_date:str) -> datetime:\n",
    "    if meta_date == '':\n",
    "        new_date = datetime.now(timezone.utc)\n",
    "    else:\n",
    "        new_date = datetime.strptime(meta_date, '%Y-%m-%d')\n",
    "    return new_date\n",
    "\n",
    "date_for_sqlite('2024-05-18')"
   ]
  },
  {
   "cell_type": "code",
   "execution_count": 5,
   "metadata": {},
   "outputs": [
    {
     "name": "stdout",
     "output_type": "stream",
     "text": [
      "id|name|created_on|first_register|last_register\n",
      "1|Group A|2024-04-15 21:43:02.591253|2024-06-05|2024-06-05\n",
      "2|Group B|2024-05-03 21:43:02.591253|2024-06-06|2024-06-10\n",
      "3|Group C|2024-05-07 21:43:02.591253|None|None\n",
      "id|name|registered_on|group_id\n",
      "1|Peter|2024-06-10 21:43:02.599258|2\n",
      "2|Stewie|2024-06-05 21:43:02.599258|1\n",
      "3|Brian|2024-06-10 21:43:02.599258|0\n",
      "4|Lois|2024-06-06 21:43:02.599258|2\n",
      "5|Meg|2024-06-08 21:43:02.599258|0\n",
      "6|Chris|2024-06-08 21:43:02.599258|0\n"
     ]
    }
   ],
   "source": [
    "import pandas as pd\n",
    "from app import app, db\n",
    "from app import Group, User\n",
    "\n",
    "from sqlalchemy.inspection import inspect\n",
    "from sqlalchemy.exc import OperationalError\n",
    "\n",
    "with app.app_context():\n",
    "\n",
    "    try:\n",
    "        # 读取表格内容为 list，其中的元素都为各自对应模型的实例\n",
    "        group_list = Group.query.all()\n",
    "        user_list = User.query.all()\n",
    "        group_columns = inspect(Group).columns\n",
    "        user_columns = inspect(User).columns\n",
    "    except OperationalError as e:\n",
    "        print(f\"OperationalError: {e}\")\n",
    "\n",
    "print(f\"{group_columns.id.key}|{group_columns.name.key}|{group_columns.created_on.key}|{group_columns.first_register.key}|{group_columns.last_register.key}\")\n",
    "for group in group_list:\n",
    "    print(\n",
    "        f\"{group.id}|{group.name}|{group.created_on}|{group.first_register}|{group.last_register}\"\n",
    "    )\n",
    "\n",
    "print(f\"{user_columns.id.key}|{user_columns.name.key}|{user_columns.registered_on.key}|{user_columns.group_id.key}\")\n",
    "for user in user_list:\n",
    "    print(\n",
    "        f\"{user.id}|{user.name}|{user.registered_on}|{user.group_id}\"\n",
    "    )\n"
   ]
  },
  {
   "cell_type": "code",
   "execution_count": null,
   "metadata": {},
   "outputs": [],
   "source": []
  },
  {
   "cell_type": "code",
   "execution_count": null,
   "metadata": {},
   "outputs": [],
   "source": [
    "user_data = [{'id': user.id, \n",
    "              'name': user.name, \n",
    "              'registered_on': user.registered_on,\n",
    "              'group_id': user.group_id} \n",
    "              for user in user_list]\n",
    "# group_id 列因为可能有空值None存在导致被识别为浮点数NaN，进而导致整列变成浮点数\n",
    "user_df = pd.DataFrame(user_data)\n",
    "user_df['group_id'] = user_df['group_id'].astype(pd.Int64Dtype())"
   ]
  },
  {
   "cell_type": "code",
   "execution_count": null,
   "metadata": {},
   "outputs": [],
   "source": [
    "user_df"
   ]
  },
  {
   "cell_type": "code",
   "execution_count": null,
   "metadata": {},
   "outputs": [],
   "source": [
    "from datetime import datetime, timezone, timedelta\n",
    "\n",
    "# type <datetime.date>\n",
    "A = datetime.strptime('2024-06-06', '%Y-%m-%d').date() + timedelta(days=1)\n",
    "B = datetime(2024, 6, 6, tzinfo=timezone.utc) + timedelta(days=1)\n",
    "A == B"
   ]
  }
 ],
 "metadata": {
  "kernelspec": {
   "display_name": "Python 3",
   "language": "python",
   "name": "python3"
  },
  "language_info": {
   "codemirror_mode": {
    "name": "ipython",
    "version": 3
   },
   "file_extension": ".py",
   "mimetype": "text/x-python",
   "name": "python",
   "nbconvert_exporter": "python",
   "pygments_lexer": "ipython3",
   "version": "3.10.11"
  }
 },
 "nbformat": 4,
 "nbformat_minor": 2
}
