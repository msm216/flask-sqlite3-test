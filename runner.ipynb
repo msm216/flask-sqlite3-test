{
 "cells": [
  {
   "cell_type": "markdown",
   "metadata": {},
   "source": [
    "```arduino\n",
    "flask-sqlite3-test/\n",
    "├── instance/\n",
    "│   └── test.db\n",
    "├── templates/\n",
    "│   ├── index.html\n",
    "│   ├── group_modal.html\n",
    "│   └── user_modal.html\n",
    "├── static/\n",
    "│   └── js/\n",
    "│       ├── group_modal.js\n",
    "│       ├── user_modal.js\n",
    "│       └── index.js\n",
    "├── db_init.py\n",
    "└── app.py\n",
    "```"
   ]
  },
  {
   "cell_type": "code",
   "execution_count": 10,
   "metadata": {},
   "outputs": [
    {
     "data": {
      "text/plain": [
       "datetime.datetime(2024, 5, 18, 0, 0)"
      ]
     },
     "execution_count": 10,
     "metadata": {},
     "output_type": "execute_result"
    }
   ],
   "source": [
    "from datetime import datetime, timezone\n",
    "\n",
    "# 确保日期格式为 <class 'datetime.datetime'>\n",
    "def date_for_sqlite(meta_date:str) -> datetime:\n",
    "    if meta_date == '':\n",
    "        new_date = datetime.now(timezone.utc)\n",
    "    else:\n",
    "        new_date = datetime.strptime(meta_date, '%Y-%m-%d')\n",
    "    return new_date\n",
    "\n",
    "date_for_sqlite('2024-05-18')"
   ]
  },
  {
   "cell_type": "code",
   "execution_count": 3,
   "metadata": {},
   "outputs": [],
   "source": [
    "from app import app, db\n",
    "from app import Group, User\n",
    "\n",
    "from sqlalchemy.exc import OperationalError\n",
    "\n",
    "with app.app_context():\n",
    "\n",
    "    try:\n",
    "        # 读取表格内容为 list，其中的元素都为各自对应模型的实例\n",
    "        group_list = Group.query.all()\n",
    "        user_list = User.query.all()\n",
    "    except OperationalError as e:\n",
    "        print(f\"OperationalError: {e}\")\n",
    "\n",
    "\n",
    "#print(vars(group_list[0]))\n",
    "#print(vars(user_list[0]))"
   ]
  },
  {
   "cell_type": "code",
   "execution_count": 4,
   "metadata": {},
   "outputs": [
    {
     "name": "stdout",
     "output_type": "stream",
     "text": [
      "1|Group A|2024-05-31 19:24:25.547162\n",
      "2|Group B|2024-05-22 19:24:25.547162\n",
      "3|Group C|2024-04-10 19:24:25.547162\n"
     ]
    }
   ],
   "source": [
    "for group in group_list:\n",
    "    print(\n",
    "        f\"{group.id}|{group.name}|{group.created_on}\"\n",
    "    )"
   ]
  },
  {
   "cell_type": "code",
   "execution_count": 11,
   "metadata": {},
   "outputs": [
    {
     "name": "stdout",
     "output_type": "stream",
     "text": [
      "1|Peter|2024-06-01 19:24:25.555666 (<class 'datetime.datetime'>)|0\n",
      "2|Stewie|2024-05-30 19:24:25.555666 (<class 'datetime.datetime'>)|0\n",
      "3|Brian|2024-06-03 19:24:25.555666 (<class 'datetime.datetime'>)|2\n",
      "4|Lois|2024-06-01 19:24:25.555666 (<class 'datetime.datetime'>)|0\n",
      "5|Meg|2024-06-03 19:24:25.555666 (<class 'datetime.datetime'>)|0\n",
      "6|Chris|2024-05-31 19:24:25.555666 (<class 'datetime.datetime'>)|0\n"
     ]
    }
   ],
   "source": [
    "for user in user_list:\n",
    "    print(\n",
    "        f\"{user.id}|{user.name}|{user.registered_on} ({type(user.registered_on)})|{user.group_id}\"\n",
    "    )"
   ]
  },
  {
   "cell_type": "code",
   "execution_count": 6,
   "metadata": {},
   "outputs": [],
   "source": [
    "import pandas as pd\n",
    "\n",
    "user_data = [{'id': user.id, \n",
    "              'name': user.name, \n",
    "              'registered_on': user.registered_on,\n",
    "              'group_id': user.group_id} \n",
    "              for user in user_list]\n",
    "# group_id 列因为可能有空值None存在导致被识别为浮点数NaN，进而导致整列变成浮点数\n",
    "user_df = pd.DataFrame(user_data)\n",
    "user_df['group_id'] = user_df['group_id'].astype(pd.Int64Dtype())"
   ]
  },
  {
   "cell_type": "code",
   "execution_count": 7,
   "metadata": {},
   "outputs": [
    {
     "data": {
      "text/html": [
       "<div>\n",
       "<style scoped>\n",
       "    .dataframe tbody tr th:only-of-type {\n",
       "        vertical-align: middle;\n",
       "    }\n",
       "\n",
       "    .dataframe tbody tr th {\n",
       "        vertical-align: top;\n",
       "    }\n",
       "\n",
       "    .dataframe thead th {\n",
       "        text-align: right;\n",
       "    }\n",
       "</style>\n",
       "<table border=\"1\" class=\"dataframe\">\n",
       "  <thead>\n",
       "    <tr style=\"text-align: right;\">\n",
       "      <th></th>\n",
       "      <th>id</th>\n",
       "      <th>name</th>\n",
       "      <th>registered_on</th>\n",
       "      <th>group_id</th>\n",
       "    </tr>\n",
       "  </thead>\n",
       "  <tbody>\n",
       "    <tr>\n",
       "      <th>0</th>\n",
       "      <td>1</td>\n",
       "      <td>Peter</td>\n",
       "      <td>2024-06-01 19:24:25.555666</td>\n",
       "      <td>0</td>\n",
       "    </tr>\n",
       "    <tr>\n",
       "      <th>1</th>\n",
       "      <td>2</td>\n",
       "      <td>Stewie</td>\n",
       "      <td>2024-05-30 19:24:25.555666</td>\n",
       "      <td>0</td>\n",
       "    </tr>\n",
       "    <tr>\n",
       "      <th>2</th>\n",
       "      <td>3</td>\n",
       "      <td>Brian</td>\n",
       "      <td>2024-06-03 19:24:25.555666</td>\n",
       "      <td>2</td>\n",
       "    </tr>\n",
       "    <tr>\n",
       "      <th>3</th>\n",
       "      <td>4</td>\n",
       "      <td>Lois</td>\n",
       "      <td>2024-06-01 19:24:25.555666</td>\n",
       "      <td>0</td>\n",
       "    </tr>\n",
       "    <tr>\n",
       "      <th>4</th>\n",
       "      <td>5</td>\n",
       "      <td>Meg</td>\n",
       "      <td>2024-06-03 19:24:25.555666</td>\n",
       "      <td>0</td>\n",
       "    </tr>\n",
       "    <tr>\n",
       "      <th>5</th>\n",
       "      <td>6</td>\n",
       "      <td>Chris</td>\n",
       "      <td>2024-05-31 19:24:25.555666</td>\n",
       "      <td>0</td>\n",
       "    </tr>\n",
       "  </tbody>\n",
       "</table>\n",
       "</div>"
      ],
      "text/plain": [
       "   id    name              registered_on  group_id\n",
       "0   1   Peter 2024-06-01 19:24:25.555666         0\n",
       "1   2  Stewie 2024-05-30 19:24:25.555666         0\n",
       "2   3   Brian 2024-06-03 19:24:25.555666         2\n",
       "3   4    Lois 2024-06-01 19:24:25.555666         0\n",
       "4   5     Meg 2024-06-03 19:24:25.555666         0\n",
       "5   6   Chris 2024-05-31 19:24:25.555666         0"
      ]
     },
     "execution_count": 7,
     "metadata": {},
     "output_type": "execute_result"
    }
   ],
   "source": [
    "user_df"
   ]
  },
  {
   "cell_type": "code",
   "execution_count": 21,
   "metadata": {},
   "outputs": [
    {
     "data": {
      "text/plain": [
       "False"
      ]
     },
     "execution_count": 21,
     "metadata": {},
     "output_type": "execute_result"
    }
   ],
   "source": [
    "from datetime import datetime, timezone, timedelta\n",
    "\n",
    "# type <datetime.date>\n",
    "A = datetime.strptime('2024-06-06', '%Y-%m-%d').date() + timedelta(days=1)\n",
    "B = datetime(2024, 6, 6, tzinfo=timezone.utc) + timedelta(days=1)\n",
    "A == B"
   ]
  }
 ],
 "metadata": {
  "kernelspec": {
   "display_name": "Python 3",
   "language": "python",
   "name": "python3"
  },
  "language_info": {
   "codemirror_mode": {
    "name": "ipython",
    "version": 3
   },
   "file_extension": ".py",
   "mimetype": "text/x-python",
   "name": "python",
   "nbconvert_exporter": "python",
   "pygments_lexer": "ipython3",
   "version": "3.10.11"
  }
 },
 "nbformat": 4,
 "nbformat_minor": 2
}
