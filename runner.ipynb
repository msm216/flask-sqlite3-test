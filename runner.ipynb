{
 "cells": [
  {
   "cell_type": "markdown",
   "metadata": {},
   "source": [
    "```arduino\n",
    "flask-sqlite3-test/\n",
    "├── instance/\n",
    "│   └── test.db\n",
    "├── templates/\n",
    "│   ├── index.html\n",
    "│   ├── group_modal.html\n",
    "│   └── user_modal.html\n",
    "├── static/\n",
    "│   └── js/\n",
    "│       ├── group_modal.js\n",
    "│       ├── user_modal.js\n",
    "│       └── index.js\n",
    "├── db_init.py\n",
    "└── app.py\n",
    "```"
   ]
  },
  {
   "cell_type": "code",
   "execution_count": null,
   "metadata": {},
   "outputs": [],
   "source": []
  }
 ],
 "metadata": {
  "language_info": {
   "name": "python"
  }
 },
 "nbformat": 4,
 "nbformat_minor": 2
}
